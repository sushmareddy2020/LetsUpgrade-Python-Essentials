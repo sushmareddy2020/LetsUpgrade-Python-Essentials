{
 "cells": [
  {
   "cell_type": "markdown",
   "metadata": {},
   "source": [
    "# 1.Sum of n numbers with the help of while-loop"
   ]
  },
  {
   "cell_type": "code",
   "execution_count": 31,
   "metadata": {},
   "outputs": [
    {
     "name": "stdout",
     "output_type": "stream",
     "text": [
      "Enter n value20\n",
      "The sum is 210\n"
     ]
    }
   ],
   "source": [
    "n=int(input(\"Enter n value\"))\n",
    "sum=0\n",
    "i=1\n",
    "while i<=n:\n",
    "    sum=sum+i\n",
    "    i=i+1\n",
    "    sum1=sum1+n\n",
    "print(\"The sum is\",sum)"
   ]
  },
  {
   "cell_type": "markdown",
   "metadata": {},
   "source": [
    "# 2.Take a integer and find prime or not"
   ]
  },
  {
   "cell_type": "code",
   "execution_count": 42,
   "metadata": {},
   "outputs": [
    {
     "name": "stdout",
     "output_type": "stream",
     "text": [
      "Enter num101\n",
      "Given number is prime\n"
     ]
    }
   ],
   "source": [
    "n=int(input(\"Enter num\"))\n",
    "if n%2==0:\n",
    "    print(\"Given number is not prime\")\n",
    "else:\n",
    "    print(\"Given number is prime\")"
   ]
  },
  {
   "cell_type": "code",
   "execution_count": null,
   "metadata": {},
   "outputs": [],
   "source": []
  }
 ],
 "metadata": {
  "kernelspec": {
   "display_name": "Python 3",
   "language": "python",
   "name": "python3"
  },
  "language_info": {
   "codemirror_mode": {
    "name": "ipython",
    "version": 3
   },
   "file_extension": ".py",
   "mimetype": "text/x-python",
   "name": "python",
   "nbconvert_exporter": "python",
   "pygments_lexer": "ipython3",
   "version": "3.7.6"
  }
 },
 "nbformat": 4,
 "nbformat_minor": 4
}
