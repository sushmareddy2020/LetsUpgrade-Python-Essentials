{
 "cells": [
  {
   "cell_type": "markdown",
   "metadata": {},
   "source": [
    "# Use the dictionary,\n",
    "port1={21:\"FTP\",22:\"SSH\",23:\"telnet\",80:\"http\"}, and make a new dictionary in which keys become values and values becomes keys, as shown: Port2={\"FTP\":21,\"SSH\":22,\"telnet\":23,\"http\":80}"
   ]
  },
  {
   "cell_type": "code",
   "execution_count": 2,
   "metadata": {},
   "outputs": [
    {
     "name": "stdout",
     "output_type": "stream",
     "text": [
      "The output is: {'FTP': 21, 'SSH': 22, 'telnet': 23, 'http': 80}\n"
     ]
    }
   ],
   "source": [
    "d1={21:\"FTP\",22:\"SSH\",23:\"telnet\",80:\"http\"}\n",
    "d2={value:key for key,value in d1.items()}\n",
    "print(\"The output is:\",d2)\n"
   ]
  },
  {
   "cell_type": "markdown",
   "metadata": {},
   "source": [
    "# Take a list of tuple as shown below.\n",
    "[(1,2), (3,4), (5,6), (4,5)]\n",
    "make a new list which contains the sum of the number of tuples."
   ]
  },
  {
   "cell_type": "code",
   "execution_count": 3,
   "metadata": {},
   "outputs": [
    {
     "name": "stdout",
     "output_type": "stream",
     "text": [
      "the list contains sum of tuple: [3]\n",
      "the list contains sum of tuple: [3, 7]\n",
      "the list contains sum of tuple: [3, 7, 11]\n",
      "the list contains sum of tuple: [3, 7, 11, 9]\n"
     ]
    }
   ],
   "source": [
    "list1=[(1,2), (3,4), (5,6), (4,5)]\n",
    "list2=[]\n",
    "for each in range(0,len(list1)):\n",
    "    a,b=list1[each]\n",
    "    list2.append(a+b)\n",
    "    print(\"the list contains sum of tuple:\",list2)"
   ]
  },
  {
   "cell_type": "code",
   "execution_count": null,
   "metadata": {},
   "outputs": [],
   "source": []
  }
 ],
 "metadata": {
  "kernelspec": {
   "display_name": "Python 3",
   "language": "python",
   "name": "python3"
  },
  "language_info": {
   "codemirror_mode": {
    "name": "ipython",
    "version": 3
   },
   "file_extension": ".py",
   "mimetype": "text/x-python",
   "name": "python",
   "nbconvert_exporter": "python",
   "pygments_lexer": "ipython3",
   "version": "3.7.6"
  }
 },
 "nbformat": 4,
 "nbformat_minor": 4
}
